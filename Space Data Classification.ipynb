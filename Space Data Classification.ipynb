{
 "cells": [
  {
   "cell_type": "code",
   "execution_count": 1,
   "id": "0b01dae3",
   "metadata": {},
   "outputs": [],
   "source": [
    "from keras.models import Model,Sequential\n",
    "from keras.layers import Input, Dense,Dropout,Activation, Flatten,Convolution2D,MaxPooling2D\n",
    "import numpy as np\n",
    "from keras.utils import np_utils\n",
    "import pandas as pd"
   ]
  },
  {
   "cell_type": "code",
   "execution_count": 2,
   "id": "ee3d20db",
   "metadata": {},
   "outputs": [],
   "source": [
    "data = pd.read_csv(\"Space_Data.csv\")"
   ]
  },
  {
   "cell_type": "code",
   "execution_count": null,
   "id": "b15c3019",
   "metadata": {},
   "outputs": [],
   "source": [
    "data = data.drop(\"objid\", axis=1)"
   ]
  },
  {
   "cell_type": "code",
   "execution_count": 4,
   "id": "eb7af430",
   "metadata": {},
   "outputs": [],
   "source": [
    "x = data.drop(\"class\",axis=1)\n",
    "y = data[\"class\"]"
   ]
  },
  {
   "cell_type": "code",
   "execution_count": 5,
   "id": "41793f2c",
   "metadata": {},
   "outputs": [],
   "source": [
    "for i in x.columns:\n",
    "    x[i] /= max(x[i].unique())"
   ]
  },
  {
   "cell_type": "code",
   "execution_count": 6,
   "id": "6003a8ab",
   "metadata": {},
   "outputs": [],
   "source": [
    "x = x.to_numpy()"
   ]
  },
  {
   "cell_type": "code",
   "execution_count": 7,
   "id": "bc4ed5eb",
   "metadata": {},
   "outputs": [],
   "source": [
    "y = y.to_numpy()"
   ]
  },
  {
   "cell_type": "code",
   "execution_count": 8,
   "id": "009083b7",
   "metadata": {},
   "outputs": [],
   "source": [
    "for i in range(len(y)):\n",
    "    if y[i] == \"STAR\":\n",
    "        y[i]= 0\n",
    "    elif y[i] == \"GALAXY\":\n",
    "        y[i] = 1\n",
    "    elif y[i] == \"QSO\":\n",
    "        y[i] = 2"
   ]
  },
  {
   "cell_type": "code",
   "execution_count": 9,
   "id": "e9935641",
   "metadata": {},
   "outputs": [],
   "source": [
    "y = np_utils.to_categorical(y)"
   ]
  },
  {
   "cell_type": "code",
   "execution_count": 10,
   "id": "7ed5a9ab",
   "metadata": {},
   "outputs": [
    {
     "data": {
      "text/plain": [
       "(10000, 3)"
      ]
     },
     "execution_count": 10,
     "metadata": {},
     "output_type": "execute_result"
    }
   ],
   "source": [
    "y.shape"
   ]
  },
  {
   "cell_type": "code",
   "execution_count": 12,
   "id": "f1c8ea6f",
   "metadata": {},
   "outputs": [],
   "source": [
    "x_train = x[:5000]\n",
    "y_train = y[:5000]\n",
    "x_test = x[5000:]\n",
    "y_test = y[5000:] "
   ]
  },
  {
   "cell_type": "code",
   "execution_count": 13,
   "id": "a8218c74",
   "metadata": {},
   "outputs": [],
   "source": [
    "model = Sequential()\n",
    "model.add(Dense(10,activation=\"relu\",input_shape = (16,)))\n",
    "model.add(Dropout(0.3, noise_shape=None,seed=None))\n",
    "model.add(Dense(10,activation=\"relu\"))\n",
    "model.add(Dropout(0.2, noise_shape=None,seed=None))\n",
    "model.add(Dense(10,activation=\"relu\"))\n",
    "model.add(Dropout(0.1, noise_shape=None,seed=None))\n",
    "model.add(Dense(10,activation=\"relu\"))\n",
    "model.add(Dense(3,activation=\"softmax\"))"
   ]
  },
  {
   "cell_type": "code",
   "execution_count": 14,
   "id": "96755b7b",
   "metadata": {},
   "outputs": [],
   "source": [
    "model.compile(loss=\"categorical_crossentropy\",optimizer=\"adam\",metrics=[\"accuracy\"])"
   ]
  },
  {
   "cell_type": "code",
   "execution_count": 15,
   "id": "088ce7a4",
   "metadata": {},
   "outputs": [
    {
     "name": "stdout",
     "output_type": "stream",
     "text": [
      "Epoch 1/100\n",
      "125/125 [==============================] - 3s 3ms/step - loss: 1.0112 - accuracy: 0.4736\n",
      "Epoch 2/100\n",
      "125/125 [==============================] - 0s 3ms/step - loss: 0.8875 - accuracy: 0.6006\n",
      "Epoch 3/100\n",
      "125/125 [==============================] - 0s 3ms/step - loss: 0.7675 - accuracy: 0.7008\n",
      "Epoch 4/100\n",
      "125/125 [==============================] - 0s 3ms/step - loss: 0.7088 - accuracy: 0.7450\n",
      "Epoch 5/100\n",
      "125/125 [==============================] - 0s 3ms/step - loss: 0.6854 - accuracy: 0.7552\n",
      "Epoch 6/100\n",
      "125/125 [==============================] - 0s 3ms/step - loss: 0.6802 - accuracy: 0.7566\n",
      "Epoch 7/100\n",
      "125/125 [==============================] - 0s 3ms/step - loss: 0.6617 - accuracy: 0.7608\n",
      "Epoch 8/100\n",
      "125/125 [==============================] - 0s 3ms/step - loss: 0.6433 - accuracy: 0.7662\n",
      "Epoch 9/100\n",
      "125/125 [==============================] - 0s 3ms/step - loss: 0.6134 - accuracy: 0.7648\n",
      "Epoch 10/100\n",
      "125/125 [==============================] - 0s 3ms/step - loss: 0.5879 - accuracy: 0.7924\n",
      "Epoch 11/100\n",
      "125/125 [==============================] - 0s 3ms/step - loss: 0.5487 - accuracy: 0.8046\n",
      "Epoch 12/100\n",
      "125/125 [==============================] - 0s 3ms/step - loss: 0.5176 - accuracy: 0.8164\n",
      "Epoch 13/100\n",
      "125/125 [==============================] - 0s 3ms/step - loss: 0.4963 - accuracy: 0.8186\n",
      "Epoch 14/100\n",
      "125/125 [==============================] - 0s 3ms/step - loss: 0.4707 - accuracy: 0.8248\n",
      "Epoch 15/100\n",
      "125/125 [==============================] - 0s 3ms/step - loss: 0.4475 - accuracy: 0.8338\n",
      "Epoch 16/100\n",
      "125/125 [==============================] - 0s 3ms/step - loss: 0.4272 - accuracy: 0.8364\n",
      "Epoch 17/100\n",
      "125/125 [==============================] - 0s 3ms/step - loss: 0.4322 - accuracy: 0.8370\n",
      "Epoch 18/100\n",
      "125/125 [==============================] - 0s 3ms/step - loss: 0.4159 - accuracy: 0.8464\n",
      "Epoch 19/100\n",
      "125/125 [==============================] - 0s 3ms/step - loss: 0.3974 - accuracy: 0.8496\n",
      "Epoch 20/100\n",
      "125/125 [==============================] - 0s 3ms/step - loss: 0.3854 - accuracy: 0.8544\n",
      "Epoch 21/100\n",
      "125/125 [==============================] - 0s 3ms/step - loss: 0.3770 - accuracy: 0.8544\n",
      "Epoch 22/100\n",
      "125/125 [==============================] - 0s 3ms/step - loss: 0.3664 - accuracy: 0.8614\n",
      "Epoch 23/100\n",
      "125/125 [==============================] - 0s 3ms/step - loss: 0.3702 - accuracy: 0.8610\n",
      "Epoch 24/100\n",
      "125/125 [==============================] - 0s 3ms/step - loss: 0.3566 - accuracy: 0.8702\n",
      "Epoch 25/100\n",
      "125/125 [==============================] - 0s 3ms/step - loss: 0.3530 - accuracy: 0.8662\n",
      "Epoch 26/100\n",
      "125/125 [==============================] - 0s 3ms/step - loss: 0.3470 - accuracy: 0.8682\n",
      "Epoch 27/100\n",
      "125/125 [==============================] - 0s 3ms/step - loss: 0.3386 - accuracy: 0.8720\n",
      "Epoch 28/100\n",
      "125/125 [==============================] - 0s 3ms/step - loss: 0.3425 - accuracy: 0.8682\n",
      "Epoch 29/100\n",
      "125/125 [==============================] - 0s 3ms/step - loss: 0.3221 - accuracy: 0.8802\n",
      "Epoch 30/100\n",
      "125/125 [==============================] - 0s 3ms/step - loss: 0.3177 - accuracy: 0.8772\n",
      "Epoch 31/100\n",
      "125/125 [==============================] - 0s 3ms/step - loss: 0.3167 - accuracy: 0.8760\n",
      "Epoch 32/100\n",
      "125/125 [==============================] - 0s 3ms/step - loss: 0.3221 - accuracy: 0.8756\n",
      "Epoch 33/100\n",
      "125/125 [==============================] - 0s 3ms/step - loss: 0.2948 - accuracy: 0.8876\n",
      "Epoch 34/100\n",
      "125/125 [==============================] - 0s 3ms/step - loss: 0.3110 - accuracy: 0.8762\n",
      "Epoch 35/100\n",
      "125/125 [==============================] - 0s 3ms/step - loss: 0.2899 - accuracy: 0.8836\n",
      "Epoch 36/100\n",
      "125/125 [==============================] - 0s 3ms/step - loss: 0.3021 - accuracy: 0.8804\n",
      "Epoch 37/100\n",
      "125/125 [==============================] - 0s 3ms/step - loss: 0.2889 - accuracy: 0.8862\n",
      "Epoch 38/100\n",
      "125/125 [==============================] - 0s 3ms/step - loss: 0.2837 - accuracy: 0.8878\n",
      "Epoch 39/100\n",
      "125/125 [==============================] - 0s 3ms/step - loss: 0.2858 - accuracy: 0.8898\n",
      "Epoch 40/100\n",
      "125/125 [==============================] - 0s 3ms/step - loss: 0.2783 - accuracy: 0.8874\n",
      "Epoch 41/100\n",
      "125/125 [==============================] - 0s 3ms/step - loss: 0.2800 - accuracy: 0.8934\n",
      "Epoch 42/100\n",
      "125/125 [==============================] - 0s 3ms/step - loss: 0.2704 - accuracy: 0.8940\n",
      "Epoch 43/100\n",
      "125/125 [==============================] - 0s 3ms/step - loss: 0.2647 - accuracy: 0.8966\n",
      "Epoch 44/100\n",
      "125/125 [==============================] - 0s 3ms/step - loss: 0.2711 - accuracy: 0.8922\n",
      "Epoch 45/100\n",
      "125/125 [==============================] - 0s 3ms/step - loss: 0.2735 - accuracy: 0.8944\n",
      "Epoch 46/100\n",
      "125/125 [==============================] - 0s 3ms/step - loss: 0.2597 - accuracy: 0.8962\n",
      "Epoch 47/100\n",
      "125/125 [==============================] - 0s 3ms/step - loss: 0.2762 - accuracy: 0.8890\n",
      "Epoch 48/100\n",
      "125/125 [==============================] - 0s 3ms/step - loss: 0.2560 - accuracy: 0.8992\n",
      "Epoch 49/100\n",
      "125/125 [==============================] - 0s 3ms/step - loss: 0.2563 - accuracy: 0.9010\n",
      "Epoch 50/100\n",
      "125/125 [==============================] - 0s 3ms/step - loss: 0.2562 - accuracy: 0.8962\n",
      "Epoch 51/100\n",
      "125/125 [==============================] - 0s 3ms/step - loss: 0.2518 - accuracy: 0.8968\n",
      "Epoch 52/100\n",
      "125/125 [==============================] - 0s 3ms/step - loss: 0.2510 - accuracy: 0.8976\n",
      "Epoch 53/100\n",
      "125/125 [==============================] - 0s 2ms/step - loss: 0.2565 - accuracy: 0.8990\n",
      "Epoch 54/100\n",
      "125/125 [==============================] - 0s 3ms/step - loss: 0.2494 - accuracy: 0.8974\n",
      "Epoch 55/100\n",
      "125/125 [==============================] - 0s 3ms/step - loss: 0.2495 - accuracy: 0.8998\n",
      "Epoch 56/100\n",
      "125/125 [==============================] - 0s 3ms/step - loss: 0.2427 - accuracy: 0.9022\n",
      "Epoch 57/100\n",
      "125/125 [==============================] - 0s 3ms/step - loss: 0.2460 - accuracy: 0.9030\n",
      "Epoch 58/100\n",
      "125/125 [==============================] - 0s 3ms/step - loss: 0.2452 - accuracy: 0.8960\n",
      "Epoch 59/100\n",
      "125/125 [==============================] - 0s 3ms/step - loss: 0.2320 - accuracy: 0.9054\n",
      "Epoch 60/100\n",
      "125/125 [==============================] - 0s 3ms/step - loss: 0.2348 - accuracy: 0.9022\n",
      "Epoch 61/100\n",
      "125/125 [==============================] - 0s 3ms/step - loss: 0.2280 - accuracy: 0.9092\n",
      "Epoch 62/100\n",
      "125/125 [==============================] - 0s 3ms/step - loss: 0.2321 - accuracy: 0.8984\n",
      "Epoch 63/100\n",
      "125/125 [==============================] - 0s 3ms/step - loss: 0.2329 - accuracy: 0.9056\n",
      "Epoch 64/100\n",
      "125/125 [==============================] - 0s 2ms/step - loss: 0.2237 - accuracy: 0.9064\n",
      "Epoch 65/100\n",
      "125/125 [==============================] - 0s 3ms/step - loss: 0.2329 - accuracy: 0.9004\n",
      "Epoch 66/100\n",
      "125/125 [==============================] - 0s 3ms/step - loss: 0.2173 - accuracy: 0.9124\n",
      "Epoch 67/100\n",
      "125/125 [==============================] - 0s 3ms/step - loss: 0.2347 - accuracy: 0.9028\n",
      "Epoch 68/100\n",
      "125/125 [==============================] - 0s 3ms/step - loss: 0.2227 - accuracy: 0.9094\n",
      "Epoch 69/100\n",
      "125/125 [==============================] - 0s 3ms/step - loss: 0.2067 - accuracy: 0.9164\n",
      "Epoch 70/100\n",
      "125/125 [==============================] - 0s 3ms/step - loss: 0.2270 - accuracy: 0.9098\n",
      "Epoch 71/100\n",
      "125/125 [==============================] - 0s 3ms/step - loss: 0.2258 - accuracy: 0.9022\n",
      "Epoch 72/100\n",
      "125/125 [==============================] - 0s 3ms/step - loss: 0.2214 - accuracy: 0.9056\n",
      "Epoch 73/100\n",
      "125/125 [==============================] - 0s 3ms/step - loss: 0.2205 - accuracy: 0.9100\n",
      "Epoch 74/100\n",
      "125/125 [==============================] - 0s 3ms/step - loss: 0.2135 - accuracy: 0.9136\n",
      "Epoch 75/100\n",
      "125/125 [==============================] - 0s 3ms/step - loss: 0.2138 - accuracy: 0.9088\n",
      "Epoch 76/100\n",
      "125/125 [==============================] - 0s 3ms/step - loss: 0.2240 - accuracy: 0.9030\n",
      "Epoch 77/100\n",
      "125/125 [==============================] - 0s 3ms/step - loss: 0.2130 - accuracy: 0.9122\n",
      "Epoch 78/100\n",
      "125/125 [==============================] - 0s 3ms/step - loss: 0.2189 - accuracy: 0.9094\n",
      "Epoch 79/100\n",
      "125/125 [==============================] - 0s 3ms/step - loss: 0.2220 - accuracy: 0.9018\n",
      "Epoch 80/100\n",
      "125/125 [==============================] - 0s 3ms/step - loss: 0.2238 - accuracy: 0.9040\n",
      "Epoch 81/100\n"
     ]
    },
    {
     "name": "stdout",
     "output_type": "stream",
     "text": [
      "125/125 [==============================] - 0s 3ms/step - loss: 0.2122 - accuracy: 0.9130\n",
      "Epoch 82/100\n",
      "125/125 [==============================] - 0s 3ms/step - loss: 0.2087 - accuracy: 0.9090\n",
      "Epoch 83/100\n",
      "125/125 [==============================] - 0s 3ms/step - loss: 0.2005 - accuracy: 0.9098\n",
      "Epoch 84/100\n",
      "125/125 [==============================] - 0s 3ms/step - loss: 0.1973 - accuracy: 0.9156\n",
      "Epoch 85/100\n",
      "125/125 [==============================] - 0s 3ms/step - loss: 0.1954 - accuracy: 0.9192\n",
      "Epoch 86/100\n",
      "125/125 [==============================] - 0s 3ms/step - loss: 0.1959 - accuracy: 0.9172\n",
      "Epoch 87/100\n",
      "125/125 [==============================] - 0s 3ms/step - loss: 0.1945 - accuracy: 0.9208\n",
      "Epoch 88/100\n",
      "125/125 [==============================] - 0s 3ms/step - loss: 0.2056 - accuracy: 0.9164\n",
      "Epoch 89/100\n",
      "125/125 [==============================] - 0s 3ms/step - loss: 0.1849 - accuracy: 0.9266\n",
      "Epoch 90/100\n",
      "125/125 [==============================] - 0s 3ms/step - loss: 0.2018 - accuracy: 0.9224\n",
      "Epoch 91/100\n",
      "125/125 [==============================] - 0s 3ms/step - loss: 0.1860 - accuracy: 0.9228\n",
      "Epoch 92/100\n",
      "125/125 [==============================] - 0s 3ms/step - loss: 0.2141 - accuracy: 0.9090\n",
      "Epoch 93/100\n",
      "125/125 [==============================] - 0s 3ms/step - loss: 0.1855 - accuracy: 0.9254\n",
      "Epoch 94/100\n",
      "125/125 [==============================] - 0s 3ms/step - loss: 0.1874 - accuracy: 0.9194\n",
      "Epoch 95/100\n",
      "125/125 [==============================] - 0s 3ms/step - loss: 0.1908 - accuracy: 0.9198\n",
      "Epoch 96/100\n",
      "125/125 [==============================] - 0s 3ms/step - loss: 0.1810 - accuracy: 0.9224\n",
      "Epoch 97/100\n",
      "125/125 [==============================] - 0s 3ms/step - loss: 0.1845 - accuracy: 0.9218\n",
      "Epoch 98/100\n",
      "125/125 [==============================] - 0s 3ms/step - loss: 0.2039 - accuracy: 0.9188\n",
      "Epoch 99/100\n",
      "125/125 [==============================] - 0s 3ms/step - loss: 0.1866 - accuracy: 0.9228\n",
      "Epoch 100/100\n",
      "125/125 [==============================] - 0s 3ms/step - loss: 0.1871 - accuracy: 0.9194\n"
     ]
    },
    {
     "data": {
      "text/plain": [
       "<keras.callbacks.History at 0x265bf5c9e10>"
      ]
     },
     "execution_count": 15,
     "metadata": {},
     "output_type": "execute_result"
    }
   ],
   "source": [
    "model.fit(x_train,y_train,batch_size=40,epochs=100,verbose=1)"
   ]
  },
  {
   "cell_type": "code",
   "execution_count": 73,
   "id": "5290c7df",
   "metadata": {},
   "outputs": [],
   "source": [
    "score=model.evaluate(x_test,y_test,verbose=0) "
   ]
  },
  {
   "cell_type": "code",
   "execution_count": 74,
   "id": "941c0e87",
   "metadata": {
    "scrolled": true
   },
   "outputs": [
    {
     "data": {
      "text/plain": [
       "[0.08338647335767746, 0.9775999784469604]"
      ]
     },
     "execution_count": 74,
     "metadata": {},
     "output_type": "execute_result"
    }
   ],
   "source": [
    "score"
   ]
  },
  {
   "cell_type": "code",
   "execution_count": null,
   "id": "9ab7c25a",
   "metadata": {},
   "outputs": [],
   "source": []
  }
 ],
 "metadata": {
  "kernelspec": {
   "display_name": "Python 3 (ipykernel)",
   "language": "python",
   "name": "python3"
  },
  "language_info": {
   "codemirror_mode": {
    "name": "ipython",
    "version": 3
   },
   "file_extension": ".py",
   "mimetype": "text/x-python",
   "name": "python",
   "nbconvert_exporter": "python",
   "pygments_lexer": "ipython3",
   "version": "3.11.1"
  }
 },
 "nbformat": 4,
 "nbformat_minor": 5
}
