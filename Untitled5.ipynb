{
 "cells": [
  {
   "cell_type": "code",
   "execution_count": 9,
   "id": "c66ec3fc",
   "metadata": {},
   "outputs": [
    {
     "ename": "ModuleNotFoundError",
     "evalue": "No module named 'roboflowoak'",
     "output_type": "error",
     "traceback": [
      "\u001b[1;31m---------------------------------------------------------------------------\u001b[0m",
      "\u001b[1;31mModuleNotFoundError\u001b[0m                       Traceback (most recent call last)",
      "Cell \u001b[1;32mIn[9], line 1\u001b[0m\n\u001b[1;32m----> 1\u001b[0m \u001b[38;5;28;01mfrom\u001b[39;00m \u001b[38;5;21;01mroboflowoak\u001b[39;00m \u001b[38;5;28;01mimport\u001b[39;00m RoboflowOak\n\u001b[0;32m      2\u001b[0m \u001b[38;5;28;01mimport\u001b[39;00m \u001b[38;5;21;01mcv2\u001b[39;00m\n\u001b[0;32m      3\u001b[0m \u001b[38;5;28;01mimport\u001b[39;00m \u001b[38;5;21;01mtime\u001b[39;00m\n",
      "\u001b[1;31mModuleNotFoundError\u001b[0m: No module named 'roboflowoak'"
     ]
    }
   ],
   "source": [
    "from roboflowoak import RoboflowOak\n",
    "import cv2\n",
    "import time\n",
    "import numpy as np\n",
    "\n",
    "if __name__ == '__main__':\n",
    "    # instantiating an object (rf) with the RoboflowOak module\n",
    "    rf = RoboflowOak(model=\"2024-frc\", confidence=0.05, overlap=0.5,\n",
    "    version=\"3\", api_key=\"V65yUSVSTeNsuatDbfzs\", rgb=True,\n",
    "    depth=True, device=None, blocking=True)\n",
    "    # Running our model and displaying the video output with detections\n",
    "    while True:\n",
    "        t0 = time.time()\n",
    "        # The rf.detect() function runs the model inference\n",
    "        result, frame, raw_frame, depth = rf.detect(visualize=True)\n",
    "        predictions = result[\"predictions\"]\n",
    "        #{\n",
    "        #    predictions:\n",
    "        #    [ {\n",
    "        #        x: (middle),\n",
    "        #        y:(middle),\n",
    "        #        width:\n",
    "        #        height:\n",
    "        #        depth: ###->\n",
    "        #        confidence:\n",
    "        #        class:\n",
    "        #        mask: {\n",
    "        #    ]\n",
    "        #}\n",
    "        #frame - frame after preprocs, with predictions\n",
    "        #raw_frame - original frame from your OAK\n",
    "        #depth - depth map for raw_frame, center-rectified to the center camera\n",
    "\n",
    "        # timing: for benchmarking purposes\n",
    "        t = time.time()-t0\n",
    "        print(\"INFERENCE TIME IN MS \", 1/t)\n",
    "        print(\"PREDICTIONS \", [p.json() for p in predictions])\n",
    "\n",
    "        # setting parameters for depth calculation\n",
    "        max_depth = np.amax(depth)\n",
    "        cv2.imshow(\"depth\", depth/max_depth)\n",
    "        # displaying the video feed as successive frames\n",
    "        cv2.imshow(\"frame\", frame)\n",
    "\n",
    "        # how to close the OAK inference window / stop inference: CTRL+q or CTRL+c\n",
    "        if cv2.waitKey(1) == ord('q'):\n",
    "            break"
   ]
  },
  {
   "cell_type": "code",
   "execution_count": 6,
   "id": "56597edf",
   "metadata": {},
   "outputs": [
    {
     "name": "stdout",
     "output_type": "stream",
     "text": [
      "Collecting roboflowoak\n",
      "  Obtaining dependency information for roboflowoak from https://files.pythonhosted.org/packages/8e/06/e6dd3a6995cf9e5eabac58eab4c05b4aed8846bf42181ad49f025c11068b/roboflowoak-0.0.12-py3-none-any.whl.metadata\n",
      "  Using cached roboflowoak-0.0.12-py3-none-any.whl.metadata (490 bytes)\n",
      "Collecting requests==2.26.0 (from roboflowoak)\n",
      "  Using cached requests-2.26.0-py2.py3-none-any.whl (62 kB)\n",
      "Requirement already satisfied: urllib3<1.27,>=1.21.1 in c:\\users\\cspde\\appdata\\local\\programs\\python\\python311\\lib\\site-packages (from requests==2.26.0->roboflowoak) (1.26.14)\n",
      "Requirement already satisfied: certifi>=2017.4.17 in c:\\users\\cspde\\appdata\\local\\programs\\python\\python311\\lib\\site-packages (from requests==2.26.0->roboflowoak) (2022.12.7)\n",
      "Collecting charset-normalizer~=2.0.0 (from requests==2.26.0->roboflowoak)\n",
      "  Using cached charset_normalizer-2.0.12-py3-none-any.whl (39 kB)\n",
      "Requirement already satisfied: idna<4,>=2.5 in c:\\users\\cspde\\appdata\\local\\programs\\python\\python311\\lib\\site-packages (from requests==2.26.0->roboflowoak) (3.4)\n",
      "Using cached roboflowoak-0.0.12-py3-none-any.whl (21 kB)\n",
      "Installing collected packages: charset-normalizer, requests, roboflowoak\n",
      "  Attempting uninstall: charset-normalizer\n",
      "    Found existing installation: charset-normalizer 3.0.1\n",
      "    Uninstalling charset-normalizer-3.0.1:\n",
      "      Successfully uninstalled charset-normalizer-3.0.1\n",
      "Note: you may need to restart the kernel to use updated packages.\n"
     ]
    },
    {
     "name": "stderr",
     "output_type": "stream",
     "text": [
      "ERROR: Could not install packages due to an OSError: [WinError 5] Access is denied: 'C:\\\\Users\\\\cspde\\\\AppData\\\\Local\\\\Programs\\\\Python\\\\Python311\\\\Lib\\\\site-packages\\\\~harset_normalizer\\\\md.cp311-win_amd64.pyd'\n",
      "Consider using the `--user` option or check the permissions.\n",
      "\n",
      "\n",
      "[notice] A new release of pip is available: 23.2 -> 23.3.2\n",
      "[notice] To update, run: C:\\Users\\cspde\\AppData\\Local\\Programs\\Python\\Python311\\python.exe -m pip install --upgrade pip\n"
     ]
    }
   ],
   "source": [
    "pip install roboflowoak"
   ]
  },
  {
   "cell_type": "code",
   "execution_count": 4,
   "id": "a14a2043",
   "metadata": {
    "scrolled": true
   },
   "outputs": [
    {
     "name": "stdout",
     "output_type": "stream",
     "text": [
      "Collecting roboflow\n",
      "  Obtaining dependency information for roboflow from https://files.pythonhosted.org/packages/e5/0c/b5a94933f815630171f1ed555ca180325c80d34fc6a42dfb1de4618bfdae/roboflow-1.1.16-py3-none-any.whl.metadata\n",
      "  Using cached roboflow-1.1.16-py3-none-any.whl.metadata (9.3 kB)\n",
      "Collecting certifi==2023.7.22 (from roboflow)\n",
      "  Obtaining dependency information for certifi==2023.7.22 from https://files.pythonhosted.org/packages/4c/dd/2234eab22353ffc7d94e8d13177aaa050113286e93e7b40eae01fbf7c3d9/certifi-2023.7.22-py3-none-any.whl.metadata\n",
      "  Using cached certifi-2023.7.22-py3-none-any.whl.metadata (2.2 kB)\n",
      "Collecting chardet==4.0.0 (from roboflow)\n",
      "  Using cached chardet-4.0.0-py2.py3-none-any.whl (178 kB)\n",
      "Collecting cycler==0.10.0 (from roboflow)\n",
      "  Using cached cycler-0.10.0-py2.py3-none-any.whl (6.5 kB)\n",
      "Collecting idna==2.10 (from roboflow)\n",
      "  Using cached idna-2.10-py2.py3-none-any.whl (58 kB)\n",
      "Requirement already satisfied: kiwisolver>=1.3.1 in c:\\users\\cspde\\appdata\\local\\programs\\python\\python311\\lib\\site-packages (from roboflow) (1.4.4)\n",
      "Requirement already satisfied: matplotlib in c:\\users\\cspde\\appdata\\local\\programs\\python\\python311\\lib\\site-packages (from roboflow) (3.6.3)\n",
      "Requirement already satisfied: numpy>=1.18.5 in c:\\users\\cspde\\appdata\\local\\programs\\python\\python311\\lib\\site-packages (from roboflow) (1.23.5)\n",
      "Collecting opencv-python-headless==4.8.0.74 (from roboflow)\n",
      "  Obtaining dependency information for opencv-python-headless==4.8.0.74 from https://files.pythonhosted.org/packages/60/e7/a6dedca760db7a4686fd3b6053487ad4ad4d8f0591295dc8a9cf35269c42/opencv_python_headless-4.8.0.74-cp37-abi3-win_amd64.whl.metadata\n",
      "  Using cached opencv_python_headless-4.8.0.74-cp37-abi3-win_amd64.whl.metadata (19 kB)\n",
      "Requirement already satisfied: Pillow>=7.1.2 in c:\\users\\cspde\\appdata\\local\\programs\\python\\python311\\lib\\site-packages (from roboflow) (9.4.0)\n",
      "Requirement already satisfied: python-dateutil in c:\\users\\cspde\\appdata\\local\\programs\\python\\python311\\lib\\site-packages (from roboflow) (2.8.2)\n",
      "Requirement already satisfied: python-dotenv in c:\\users\\cspde\\appdata\\local\\programs\\python\\python311\\lib\\site-packages (from roboflow) (1.0.0)\n",
      "Requirement already satisfied: requests in c:\\users\\cspde\\appdata\\local\\programs\\python\\python311\\lib\\site-packages (from roboflow) (2.28.2)\n",
      "Requirement already satisfied: six in c:\\users\\cspde\\appdata\\local\\programs\\python\\python311\\lib\\site-packages (from roboflow) (1.16.0)\n",
      "Collecting supervision (from roboflow)\n",
      "  Obtaining dependency information for supervision from https://files.pythonhosted.org/packages/b9/c5/8bb6e9f51e5e8cc9b80fcb5f30a2b7289c0ad94d848c08ef3691fb4196f1/supervision-0.17.1-py3-none-any.whl.metadata\n",
      "  Using cached supervision-0.17.1-py3-none-any.whl.metadata (12 kB)\n",
      "Requirement already satisfied: urllib3>=1.26.6 in c:\\users\\cspde\\appdata\\local\\programs\\python\\python311\\lib\\site-packages (from roboflow) (1.26.14)\n",
      "Requirement already satisfied: tqdm>=4.41.0 in c:\\users\\cspde\\appdata\\local\\programs\\python\\python311\\lib\\site-packages (from roboflow) (4.65.0)\n",
      "Requirement already satisfied: PyYAML>=5.3.1 in c:\\users\\cspde\\appdata\\local\\programs\\python\\python311\\lib\\site-packages (from roboflow) (6.0)\n",
      "Collecting requests-toolbelt (from roboflow)\n",
      "  Using cached requests_toolbelt-1.0.0-py2.py3-none-any.whl (54 kB)\n",
      "Requirement already satisfied: python-magic in c:\\users\\cspde\\appdata\\local\\programs\\python\\python311\\lib\\site-packages (from roboflow) (0.4.27)\n",
      "Requirement already satisfied: colorama in c:\\users\\cspde\\appdata\\local\\programs\\python\\python311\\lib\\site-packages (from tqdm>=4.41.0->roboflow) (0.4.6)\n",
      "Requirement already satisfied: contourpy>=1.0.1 in c:\\users\\cspde\\appdata\\local\\programs\\python\\python311\\lib\\site-packages (from matplotlib->roboflow) (1.0.7)\n",
      "Requirement already satisfied: fonttools>=4.22.0 in c:\\users\\cspde\\appdata\\local\\programs\\python\\python311\\lib\\site-packages (from matplotlib->roboflow) (4.38.0)\n",
      "Requirement already satisfied: packaging>=20.0 in c:\\users\\cspde\\appdata\\local\\programs\\python\\python311\\lib\\site-packages (from matplotlib->roboflow) (23.0)\n",
      "Requirement already satisfied: pyparsing>=2.2.1 in c:\\users\\cspde\\appdata\\local\\programs\\python\\python311\\lib\\site-packages (from matplotlib->roboflow) (3.0.9)\n",
      "Requirement already satisfied: charset-normalizer<4,>=2 in c:\\users\\cspde\\appdata\\local\\programs\\python\\python311\\lib\\site-packages (from requests->roboflow) (3.0.1)\n",
      "Requirement already satisfied: scipy>=1.9.0 in c:\\users\\cspde\\appdata\\local\\programs\\python\\python311\\lib\\site-packages (from supervision->roboflow) (1.10.1)\n",
      "Using cached roboflow-1.1.16-py3-none-any.whl (69 kB)\n",
      "Using cached certifi-2023.7.22-py3-none-any.whl (158 kB)\n",
      "Using cached opencv_python_headless-4.8.0.74-cp37-abi3-win_amd64.whl (38.0 MB)\n",
      "Using cached supervision-0.17.1-py3-none-any.whl (77 kB)\n",
      "Installing collected packages: opencv-python-headless, idna, cycler, chardet, certifi, supervision, requests-toolbelt, roboflow\n",
      "Note: you may need to restart the kernel to use updated packages.\n"
     ]
    },
    {
     "name": "stderr",
     "output_type": "stream",
     "text": [
      "ERROR: Could not install packages due to an OSError: [WinError 5] Access is denied: 'C:\\\\Users\\\\cspde\\\\AppData\\\\Local\\\\Programs\\\\Python\\\\Python311\\\\Lib\\\\site-packages\\\\cv2\\\\cv2.pyd'\n",
      "Consider using the `--user` option or check the permissions.\n",
      "\n",
      "\n",
      "[notice] A new release of pip is available: 23.2 -> 23.3.2\n",
      "[notice] To update, run: C:\\Users\\cspde\\AppData\\Local\\Programs\\Python\\Python311\\python.exe -m pip install --upgrade pip\n"
     ]
    }
   ],
   "source": [
    "pip install roboflow"
   ]
  },
  {
   "cell_type": "code",
   "execution_count": null,
   "id": "2180cd14",
   "metadata": {},
   "outputs": [],
   "source": []
  }
 ],
 "metadata": {
  "kernelspec": {
   "display_name": "Python 3 (ipykernel)",
   "language": "python",
   "name": "python3"
  },
  "language_info": {
   "codemirror_mode": {
    "name": "ipython",
    "version": 3
   },
   "file_extension": ".py",
   "mimetype": "text/x-python",
   "name": "python",
   "nbconvert_exporter": "python",
   "pygments_lexer": "ipython3",
   "version": "3.11.1"
  }
 },
 "nbformat": 4,
 "nbformat_minor": 5
}
