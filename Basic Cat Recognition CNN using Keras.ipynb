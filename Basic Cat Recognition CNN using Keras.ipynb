{
 "cells": [
  {
   "cell_type": "code",
   "execution_count": 72,
   "id": "4c9e9d23",
   "metadata": {},
   "outputs": [],
   "source": [
    "from keras.models import Model,Sequential\n",
    "from keras.layers import Input, Dense,Dropout,Activation, Flatten,Convolution2D,MaxPooling2D\n",
    "import numpy as np\n",
    "from keras.utils import np_utils\n",
    "import pandas as pd\n",
    "import matplotlib.pyplot as plt\n",
    "import cv2\n",
    "from tensorflow.keras.preprocessing.image import ImageDataGenerator\n",
    "from tensorflow.keras.preprocessing import image\n",
    "from tensorflow.keras.optimizers import RMSprop"
   ]
  },
  {
   "cell_type": "code",
   "execution_count": 47,
   "id": "ca5345d9",
   "metadata": {},
   "outputs": [],
   "source": [
    "import matplotlib.pyplot as plt"
   ]
  },
  {
   "cell_type": "code",
   "execution_count": 2,
   "id": "c812a45c",
   "metadata": {},
   "outputs": [
    {
     "name": "stdout",
     "output_type": "stream",
     "text": [
      "Requirement already satisfied: opencv-python in c:\\users\\cspde\\appdata\\local\\programs\\python\\python311\\lib\\site-packages (4.8.0.74)\n",
      "Requirement already satisfied: numpy>=1.21.2 in c:\\users\\cspde\\appdata\\local\\programs\\python\\python311\\lib\\site-packages (from opencv-python) (1.23.5)\n",
      "Note: you may need to restart the kernel to use updated packages.\n"
     ]
    },
    {
     "name": "stderr",
     "output_type": "stream",
     "text": [
      "\n",
      "[notice] A new release of pip is available: 23.2 -> 23.2.1\n",
      "[notice] To update, run: python.exe -m pip install --upgrade pip\n"
     ]
    }
   ],
   "source": [
    "pip install opencv-python"
   ]
  },
  {
   "cell_type": "code",
   "execution_count": 46,
   "id": "d448f951",
   "metadata": {},
   "outputs": [],
   "source": [
    "img = image.load_img(\"Path file redacted")"
   ]
  },
  {
   "cell_type": "code",
   "execution_count": 51,
   "id": "70d80306",
   "metadata": {},
   "outputs": [
    {
     "data": {
      "text/plain": [
       "(64, 64, 3)"
      ]
     },
     "execution_count": 51,
     "metadata": {},
     "output_type": "execute_result"
    }
   ],
   "source": [
    "cv2.imread(\"path file redacted").shape"
   ]
  },
  {
   "cell_type": "code",
   "execution_count": 52,
   "id": "635b527d",
   "metadata": {},
   "outputs": [],
   "source": [
    "train = ImageDataGenerator(rescale=1/255)\n",
    "test = ImageDataGenerator(rescale=1/255)"
   ]
  },
  {
   "cell_type": "code",
   "execution_count": 61,
   "id": "4b3318f9",
   "metadata": {},
   "outputs": [
    {
     "name": "stdout",
     "output_type": "stream",
     "text": [
      "Found 14630 images belonging to 3 classes.\n"
     ]
    }
   ],
   "source": [
    "x=train.flow_from_directory('path file redacted',target_size = (64,64), batch_size = 1000,class_mode=\"categorical\")"
   ]
  },
  {
   "cell_type": "code",
   "execution_count": 62,
   "id": "653a516e",
   "metadata": {},
   "outputs": [
    {
     "name": "stdout",
     "output_type": "stream",
     "text": [
      "Found 1500 images belonging to 3 classes.\n"
     ]
    }
   ],
   "source": [
    "y=train.flow_from_directory('path file redacted',target_size = (64,64), batch_size = 1000,class_mode=\"categorical\")"
   ]
  },
  {
   "cell_type": "code",
   "execution_count": 77,
   "id": "b6a54fab",
   "metadata": {},
   "outputs": [],
   "source": [
    "model = Sequential()\n",
    "#add model layers\n",
    "model.add(Convolution2D(64, kernel_size=3, activation=\"relu\", input_shape=(64,64,3)))\n",
    "model.add(Dense(10,activation=\"relu\"))\n",
    "model.add(Convolution2D(32, kernel_size=3, activation=\"relu\"))\n",
    "model.add(Dense(10,activation=\"relu\"))\n",
    "model.add(Flatten())\n",
    "model.add(Dense(3, activation=\"softmax\"))"
   ]
  },
  {
   "cell_type": "code",
   "execution_count": 78,
   "id": "2ade80d3",
   "metadata": {},
   "outputs": [
    {
     "name": "stderr",
     "output_type": "stream",
     "text": [
      "WARNING:absl:`lr` is deprecated in Keras optimizer, please use `learning_rate` or use the legacy optimizer, e.g.,tf.keras.optimizers.legacy.RMSprop.\n"
     ]
    }
   ],
   "source": [
    "model.compile(optimizer=RMSprop(lr=0.001), loss='categorical_crossentropy', metrics=['accuracy'])"
   ]
  },
  {
   "cell_type": "code",
   "execution_count": 80,
   "id": "7aaf6299",
   "metadata": {
    "scrolled": true
   },
   "outputs": [
    {
     "name": "stdout",
     "output_type": "stream",
     "text": [
      "Epoch 1/10\n",
      "15/15 [==============================] - 76s 5s/step - loss: 0.4578 - accuracy: 0.8220\n",
      "Epoch 2/10\n",
      "15/15 [==============================] - 74s 5s/step - loss: 0.4438 - accuracy: 0.8277\n",
      "Epoch 3/10\n",
      "15/15 [==============================] - 71s 5s/step - loss: 0.3834 - accuracy: 0.8526\n",
      "Epoch 4/10\n",
      "15/15 [==============================] - 72s 5s/step - loss: 0.4017 - accuracy: 0.8447\n",
      "Epoch 5/10\n",
      "15/15 [==============================] - 74s 5s/step - loss: 0.3850 - accuracy: 0.8513\n",
      "Epoch 6/10\n",
      "15/15 [==============================] - 75s 5s/step - loss: 0.3824 - accuracy: 0.8575\n",
      "Epoch 7/10\n",
      "15/15 [==============================] - 74s 5s/step - loss: 0.3305 - accuracy: 0.8757\n",
      "Epoch 8/10\n",
      "15/15 [==============================] - 74s 5s/step - loss: 0.3388 - accuracy: 0.8730\n",
      "Epoch 9/10\n",
      "15/15 [==============================] - 74s 5s/step - loss: 0.3166 - accuracy: 0.8837\n",
      "Epoch 10/10\n",
      "15/15 [==============================] - 74s 5s/step - loss: 0.3009 - accuracy: 0.8877\n"
     ]
    },
    {
     "data": {
      "text/plain": [
       "<keras.callbacks.History at 0x1fe3109dc90>"
      ]
     },
     "execution_count": 80,
     "metadata": {},
     "output_type": "execute_result"
    }
   ],
   "source": [
    "model.fit(x,batch_size=1000,epochs=10,verbose=1)"
   ]
  },
  {
   "cell_type": "code",
   "execution_count": null,
   "id": "b9f9f194",
   "metadata": {},
   "outputs": [],
   "source": []
  }
 ],
 "metadata": {
  "kernelspec": {
   "display_name": "Python 3 (ipykernel)",
   "language": "python",
   "name": "python3"
  },
  "language_info": {
   "codemirror_mode": {
    "name": "ipython",
    "version": 3
   },
   "file_extension": ".py",
   "mimetype": "text/x-python",
   "name": "python",
   "nbconvert_exporter": "python",
   "pygments_lexer": "ipython3",
   "version": "3.11.1"
  }
 },
 "nbformat": 4,
 "nbformat_minor": 5
}
