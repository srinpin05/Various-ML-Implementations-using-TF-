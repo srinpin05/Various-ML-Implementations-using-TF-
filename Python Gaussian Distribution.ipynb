{
 "cells": [
  {
   "cell_type": "code",
   "execution_count": 1,
   "id": "157a801a",
   "metadata": {},
   "outputs": [],
   "source": [
    "import numpy as np\n",
    "import scipy as sp\n",
    "from scipy import stats\n",
    "import matplotlib.pyplot as plt\n",
    "import pandas as pd\n",
    "from sklearn.metrics import r2_score\n",
    "from scipy.stats import norm"
   ]
  },
  {
   "cell_type": "code",
   "execution_count": 2,
   "id": "7226fb1f",
   "metadata": {},
   "outputs": [
    {
     "name": "stdout",
     "output_type": "stream",
     "text": [
      "Requirement already satisfied: sklearn in c:\\users\\cspde\\appdata\\local\\programs\\python\\python311\\lib\\site-packages (0.0.post1)\n",
      "Note: you may need to restart the kernel to use updated packages.\n"
     ]
    },
    {
     "name": "stderr",
     "output_type": "stream",
     "text": [
      "\n",
      "[notice] A new release of pip is available: 23.2 -> 23.3.1\n",
      "[notice] To update, run: python.exe -m pip install --upgrade pip\n"
     ]
    }
   ],
   "source": [
    "pip install sklearn"
   ]
  },
  {
   "cell_type": "code",
   "execution_count": 45,
   "id": "010f1380",
   "metadata": {},
   "outputs": [],
   "source": [
    "facial_vectors = pd.read_csv(\"facial_features1.csv\")"
   ]
  },
  {
   "cell_type": "code",
   "execution_count": 46,
   "id": "260386df",
   "metadata": {},
   "outputs": [
    {
     "data": {
      "text/plain": [
       "1009"
      ]
     },
     "execution_count": 46,
     "metadata": {},
     "output_type": "execute_result"
    }
   ],
   "source": [
    "len(facial_vectors)"
   ]
  },
  {
   "cell_type": "code",
   "execution_count": 47,
   "id": "f2c1f11b",
   "metadata": {},
   "outputs": [
    {
     "data": {
      "text/html": [
       "<div>\n",
       "<style scoped>\n",
       "    .dataframe tbody tr th:only-of-type {\n",
       "        vertical-align: middle;\n",
       "    }\n",
       "\n",
       "    .dataframe tbody tr th {\n",
       "        vertical-align: top;\n",
       "    }\n",
       "\n",
       "    .dataframe thead th {\n",
       "        text-align: right;\n",
       "    }\n",
       "</style>\n",
       "<table border=\"1\" class=\"dataframe\">\n",
       "  <thead>\n",
       "    <tr style=\"text-align: right;\">\n",
       "      <th></th>\n",
       "      <th>1.08456</th>\n",
       "      <th>-0.508257</th>\n",
       "      <th>-0.455205</th>\n",
       "      <th>-0.801591</th>\n",
       "      <th>1.09417</th>\n",
       "      <th>0.56448</th>\n",
       "      <th>1.1031</th>\n",
       "      <th>-0.245884</th>\n",
       "      <th>-0.410708</th>\n",
       "      <th>-0.0727598</th>\n",
       "      <th>...</th>\n",
       "      <th>-0.478358</th>\n",
       "      <th>0.250359</th>\n",
       "      <th>0.566895</th>\n",
       "      <th>0.574306</th>\n",
       "      <th>1.53257</th>\n",
       "      <th>-0.820876</th>\n",
       "      <th>0.463847</th>\n",
       "      <th>-0.806446</th>\n",
       "      <th>0.649095</th>\n",
       "      <th>-0.0143414</th>\n",
       "    </tr>\n",
       "  </thead>\n",
       "  <tbody>\n",
       "    <tr>\n",
       "      <th>0</th>\n",
       "      <td>0.287318</td>\n",
       "      <td>-0.364749</td>\n",
       "      <td>-0.517456</td>\n",
       "      <td>-0.889832</td>\n",
       "      <td>1.047300</td>\n",
       "      <td>0.507089</td>\n",
       "      <td>1.131200</td>\n",
       "      <td>0.126532</td>\n",
       "      <td>-0.176162</td>\n",
       "      <td>-0.182538</td>\n",
       "      <td>...</td>\n",
       "      <td>-0.266360</td>\n",
       "      <td>0.061273</td>\n",
       "      <td>0.308285</td>\n",
       "      <td>0.396795</td>\n",
       "      <td>1.081840</td>\n",
       "      <td>-0.733852</td>\n",
       "      <td>0.108946</td>\n",
       "      <td>-0.653320</td>\n",
       "      <td>0.468011</td>\n",
       "      <td>0.217705</td>\n",
       "    </tr>\n",
       "    <tr>\n",
       "      <th>1</th>\n",
       "      <td>0.967631</td>\n",
       "      <td>-0.327111</td>\n",
       "      <td>0.064151</td>\n",
       "      <td>-0.382737</td>\n",
       "      <td>1.226340</td>\n",
       "      <td>0.500175</td>\n",
       "      <td>1.188620</td>\n",
       "      <td>0.283117</td>\n",
       "      <td>-0.235675</td>\n",
       "      <td>0.031235</td>\n",
       "      <td>...</td>\n",
       "      <td>-0.500797</td>\n",
       "      <td>-0.167972</td>\n",
       "      <td>0.426948</td>\n",
       "      <td>0.758543</td>\n",
       "      <td>1.264890</td>\n",
       "      <td>-0.626186</td>\n",
       "      <td>0.338228</td>\n",
       "      <td>-0.877881</td>\n",
       "      <td>0.690759</td>\n",
       "      <td>0.188867</td>\n",
       "    </tr>\n",
       "    <tr>\n",
       "      <th>2</th>\n",
       "      <td>0.565197</td>\n",
       "      <td>-0.296782</td>\n",
       "      <td>0.634991</td>\n",
       "      <td>-1.219300</td>\n",
       "      <td>1.064270</td>\n",
       "      <td>1.460020</td>\n",
       "      <td>1.804640</td>\n",
       "      <td>-0.069539</td>\n",
       "      <td>-0.509818</td>\n",
       "      <td>-0.657412</td>\n",
       "      <td>...</td>\n",
       "      <td>-0.800066</td>\n",
       "      <td>0.421139</td>\n",
       "      <td>-0.002661</td>\n",
       "      <td>0.325054</td>\n",
       "      <td>1.279250</td>\n",
       "      <td>-0.628920</td>\n",
       "      <td>-0.038952</td>\n",
       "      <td>-1.086000</td>\n",
       "      <td>0.520084</td>\n",
       "      <td>0.561391</td>\n",
       "    </tr>\n",
       "    <tr>\n",
       "      <th>3</th>\n",
       "      <td>0.987987</td>\n",
       "      <td>0.340660</td>\n",
       "      <td>-0.219261</td>\n",
       "      <td>-0.438323</td>\n",
       "      <td>1.126020</td>\n",
       "      <td>0.699578</td>\n",
       "      <td>1.208940</td>\n",
       "      <td>-0.201788</td>\n",
       "      <td>-0.270052</td>\n",
       "      <td>-0.333164</td>\n",
       "      <td>...</td>\n",
       "      <td>-0.747960</td>\n",
       "      <td>-0.169893</td>\n",
       "      <td>0.604988</td>\n",
       "      <td>0.527408</td>\n",
       "      <td>1.260970</td>\n",
       "      <td>-0.666706</td>\n",
       "      <td>0.364788</td>\n",
       "      <td>-0.880390</td>\n",
       "      <td>0.527095</td>\n",
       "      <td>0.371026</td>\n",
       "    </tr>\n",
       "    <tr>\n",
       "      <th>4</th>\n",
       "      <td>0.023911</td>\n",
       "      <td>-0.155015</td>\n",
       "      <td>0.315314</td>\n",
       "      <td>-0.668824</td>\n",
       "      <td>1.316030</td>\n",
       "      <td>0.730888</td>\n",
       "      <td>1.359390</td>\n",
       "      <td>-0.153980</td>\n",
       "      <td>-0.182559</td>\n",
       "      <td>-0.752822</td>\n",
       "      <td>...</td>\n",
       "      <td>-0.812468</td>\n",
       "      <td>-0.123589</td>\n",
       "      <td>0.499489</td>\n",
       "      <td>0.480418</td>\n",
       "      <td>1.221790</td>\n",
       "      <td>-0.437561</td>\n",
       "      <td>0.551060</td>\n",
       "      <td>-1.100790</td>\n",
       "      <td>0.598895</td>\n",
       "      <td>0.205693</td>\n",
       "    </tr>\n",
       "    <tr>\n",
       "      <th>...</th>\n",
       "      <td>...</td>\n",
       "      <td>...</td>\n",
       "      <td>...</td>\n",
       "      <td>...</td>\n",
       "      <td>...</td>\n",
       "      <td>...</td>\n",
       "      <td>...</td>\n",
       "      <td>...</td>\n",
       "      <td>...</td>\n",
       "      <td>...</td>\n",
       "      <td>...</td>\n",
       "      <td>...</td>\n",
       "      <td>...</td>\n",
       "      <td>...</td>\n",
       "      <td>...</td>\n",
       "      <td>...</td>\n",
       "      <td>...</td>\n",
       "      <td>...</td>\n",
       "      <td>...</td>\n",
       "      <td>...</td>\n",
       "      <td>...</td>\n",
       "    </tr>\n",
       "    <tr>\n",
       "      <th>1004</th>\n",
       "      <td>1.163370</td>\n",
       "      <td>-0.022884</td>\n",
       "      <td>0.053772</td>\n",
       "      <td>-1.631440</td>\n",
       "      <td>1.207240</td>\n",
       "      <td>0.689667</td>\n",
       "      <td>-0.641151</td>\n",
       "      <td>-0.816173</td>\n",
       "      <td>-1.169420</td>\n",
       "      <td>0.373586</td>\n",
       "      <td>...</td>\n",
       "      <td>0.039846</td>\n",
       "      <td>0.020752</td>\n",
       "      <td>1.328950</td>\n",
       "      <td>0.208112</td>\n",
       "      <td>0.473348</td>\n",
       "      <td>0.147952</td>\n",
       "      <td>-0.684114</td>\n",
       "      <td>-1.448950</td>\n",
       "      <td>-0.570554</td>\n",
       "      <td>0.938161</td>\n",
       "    </tr>\n",
       "    <tr>\n",
       "      <th>1005</th>\n",
       "      <td>1.263030</td>\n",
       "      <td>-0.091061</td>\n",
       "      <td>-0.037273</td>\n",
       "      <td>-1.818480</td>\n",
       "      <td>1.643770</td>\n",
       "      <td>0.213436</td>\n",
       "      <td>-0.838224</td>\n",
       "      <td>-0.883715</td>\n",
       "      <td>-0.751111</td>\n",
       "      <td>0.303964</td>\n",
       "      <td>...</td>\n",
       "      <td>0.281505</td>\n",
       "      <td>0.221361</td>\n",
       "      <td>0.749394</td>\n",
       "      <td>0.267123</td>\n",
       "      <td>0.137590</td>\n",
       "      <td>0.389214</td>\n",
       "      <td>-0.903995</td>\n",
       "      <td>-1.147530</td>\n",
       "      <td>-0.618815</td>\n",
       "      <td>1.046870</td>\n",
       "    </tr>\n",
       "    <tr>\n",
       "      <th>1006</th>\n",
       "      <td>0.706957</td>\n",
       "      <td>-0.033671</td>\n",
       "      <td>0.400566</td>\n",
       "      <td>-1.064430</td>\n",
       "      <td>0.348999</td>\n",
       "      <td>0.876412</td>\n",
       "      <td>-0.496096</td>\n",
       "      <td>-0.931201</td>\n",
       "      <td>-1.603050</td>\n",
       "      <td>0.130205</td>\n",
       "      <td>...</td>\n",
       "      <td>0.347813</td>\n",
       "      <td>0.559629</td>\n",
       "      <td>1.859170</td>\n",
       "      <td>0.707230</td>\n",
       "      <td>0.943649</td>\n",
       "      <td>0.290071</td>\n",
       "      <td>-1.480620</td>\n",
       "      <td>-1.123930</td>\n",
       "      <td>-0.111960</td>\n",
       "      <td>0.089116</td>\n",
       "    </tr>\n",
       "    <tr>\n",
       "      <th>1007</th>\n",
       "      <td>0.427609</td>\n",
       "      <td>-0.776042</td>\n",
       "      <td>-0.270973</td>\n",
       "      <td>-1.067540</td>\n",
       "      <td>0.446100</td>\n",
       "      <td>1.050080</td>\n",
       "      <td>-0.496228</td>\n",
       "      <td>-0.647690</td>\n",
       "      <td>-1.230310</td>\n",
       "      <td>-0.018208</td>\n",
       "      <td>...</td>\n",
       "      <td>0.106417</td>\n",
       "      <td>0.751200</td>\n",
       "      <td>1.250320</td>\n",
       "      <td>0.175038</td>\n",
       "      <td>1.087360</td>\n",
       "      <td>0.696707</td>\n",
       "      <td>-1.481640</td>\n",
       "      <td>-1.073880</td>\n",
       "      <td>-0.755069</td>\n",
       "      <td>0.587772</td>\n",
       "    </tr>\n",
       "    <tr>\n",
       "      <th>1008</th>\n",
       "      <td>0.672328</td>\n",
       "      <td>0.030496</td>\n",
       "      <td>0.255755</td>\n",
       "      <td>-0.954048</td>\n",
       "      <td>0.252421</td>\n",
       "      <td>0.763469</td>\n",
       "      <td>-1.051680</td>\n",
       "      <td>-0.091548</td>\n",
       "      <td>-1.244850</td>\n",
       "      <td>0.184396</td>\n",
       "      <td>...</td>\n",
       "      <td>0.068257</td>\n",
       "      <td>0.420420</td>\n",
       "      <td>1.459200</td>\n",
       "      <td>0.036962</td>\n",
       "      <td>0.691517</td>\n",
       "      <td>0.768910</td>\n",
       "      <td>-1.469390</td>\n",
       "      <td>-1.376080</td>\n",
       "      <td>-0.265812</td>\n",
       "      <td>0.597367</td>\n",
       "    </tr>\n",
       "  </tbody>\n",
       "</table>\n",
       "<p>1009 rows × 128 columns</p>\n",
       "</div>"
      ],
      "text/plain": [
       "       1.08456  -0.508257  -0.455205  -0.801591   1.09417   0.56448    1.1031  \\\n",
       "0     0.287318  -0.364749  -0.517456  -0.889832  1.047300  0.507089  1.131200   \n",
       "1     0.967631  -0.327111   0.064151  -0.382737  1.226340  0.500175  1.188620   \n",
       "2     0.565197  -0.296782   0.634991  -1.219300  1.064270  1.460020  1.804640   \n",
       "3     0.987987   0.340660  -0.219261  -0.438323  1.126020  0.699578  1.208940   \n",
       "4     0.023911  -0.155015   0.315314  -0.668824  1.316030  0.730888  1.359390   \n",
       "...        ...        ...        ...        ...       ...       ...       ...   \n",
       "1004  1.163370  -0.022884   0.053772  -1.631440  1.207240  0.689667 -0.641151   \n",
       "1005  1.263030  -0.091061  -0.037273  -1.818480  1.643770  0.213436 -0.838224   \n",
       "1006  0.706957  -0.033671   0.400566  -1.064430  0.348999  0.876412 -0.496096   \n",
       "1007  0.427609  -0.776042  -0.270973  -1.067540  0.446100  1.050080 -0.496228   \n",
       "1008  0.672328   0.030496   0.255755  -0.954048  0.252421  0.763469 -1.051680   \n",
       "\n",
       "      -0.245884  -0.410708  -0.0727598  ...  -0.478358  0.250359  0.566895  \\\n",
       "0      0.126532  -0.176162   -0.182538  ...  -0.266360  0.061273  0.308285   \n",
       "1      0.283117  -0.235675    0.031235  ...  -0.500797 -0.167972  0.426948   \n",
       "2     -0.069539  -0.509818   -0.657412  ...  -0.800066  0.421139 -0.002661   \n",
       "3     -0.201788  -0.270052   -0.333164  ...  -0.747960 -0.169893  0.604988   \n",
       "4     -0.153980  -0.182559   -0.752822  ...  -0.812468 -0.123589  0.499489   \n",
       "...         ...        ...         ...  ...        ...       ...       ...   \n",
       "1004  -0.816173  -1.169420    0.373586  ...   0.039846  0.020752  1.328950   \n",
       "1005  -0.883715  -0.751111    0.303964  ...   0.281505  0.221361  0.749394   \n",
       "1006  -0.931201  -1.603050    0.130205  ...   0.347813  0.559629  1.859170   \n",
       "1007  -0.647690  -1.230310   -0.018208  ...   0.106417  0.751200  1.250320   \n",
       "1008  -0.091548  -1.244850    0.184396  ...   0.068257  0.420420  1.459200   \n",
       "\n",
       "      0.574306   1.53257  -0.820876  0.463847  -0.806446  0.649095  -0.0143414  \n",
       "0     0.396795  1.081840  -0.733852  0.108946  -0.653320  0.468011    0.217705  \n",
       "1     0.758543  1.264890  -0.626186  0.338228  -0.877881  0.690759    0.188867  \n",
       "2     0.325054  1.279250  -0.628920 -0.038952  -1.086000  0.520084    0.561391  \n",
       "3     0.527408  1.260970  -0.666706  0.364788  -0.880390  0.527095    0.371026  \n",
       "4     0.480418  1.221790  -0.437561  0.551060  -1.100790  0.598895    0.205693  \n",
       "...        ...       ...        ...       ...        ...       ...         ...  \n",
       "1004  0.208112  0.473348   0.147952 -0.684114  -1.448950 -0.570554    0.938161  \n",
       "1005  0.267123  0.137590   0.389214 -0.903995  -1.147530 -0.618815    1.046870  \n",
       "1006  0.707230  0.943649   0.290071 -1.480620  -1.123930 -0.111960    0.089116  \n",
       "1007  0.175038  1.087360   0.696707 -1.481640  -1.073880 -0.755069    0.587772  \n",
       "1008  0.036962  0.691517   0.768910 -1.469390  -1.376080 -0.265812    0.597367  \n",
       "\n",
       "[1009 rows x 128 columns]"
      ]
     },
     "execution_count": 47,
     "metadata": {},
     "output_type": "execute_result"
    }
   ],
   "source": [
    "facial_vectors"
   ]
  },
  {
   "cell_type": "code",
   "execution_count": 26,
   "id": "05a60fc7",
   "metadata": {
    "scrolled": true
   },
   "outputs": [],
   "source": [
    "rs = []"
   ]
  },
  {
   "cell_type": "code",
   "execution_count": 48,
   "id": "68789144",
   "metadata": {
    "scrolled": true
   },
   "outputs": [
    {
     "data": {
      "image/png": "[encoded data removed]",
      "text/plain": [
       "<Figure size 640x480 with 1 Axes>"
      ]
     },
     "metadata": {},
     "output_type": "display_data"
    }
   ],
   "source": [
    "import numpy as np\n",
    "from scipy.stats import norm\n",
    "import matplotlib.pyplot as plt\n",
    "\n",
    "for i in facial_vectors:\n",
    "    \n",
    "    data = facial_vectors[i]\n",
    "\n",
    "    mu, std = norm.fit(data)\n",
    "\n",
    "    plt.hist(data, bins=25, density=True, alpha=0.6, color='g')\n",
    "\n",
    "    xmin, xmax = plt.xlim()\n",
    "    x = np.linspace(xmin, xmax, 1009)\n",
    "    p = norm.pdf(x, mu, std)\n",
    "    corr_matrix = np.corrcoef(data,p)\n",
    "    corr = corr_matrix[0,1]\n",
    "    R_sq = 1-corr**2\n",
    "    rs.append(R_sq)"
   ]
  },
  {
   "cell_type": "code",
   "execution_count": 37,
   "id": "9227d230",
   "metadata": {},
   "outputs": [
    {
     "data": {
      "image/png": "[encoded data removed]",
      "text/plain": [
       "<Figure size 640x480 with 1 Axes>"
      ]
     },
     "metadata": {},
     "output_type": "display_data"
    }
   ],
   "source": [
    "x=[i/128 for i in range(0,128)]\n",
    "y = rs\n",
    "import matplotlib.pyplot as plt\n",
    "plt.boxplot(rs,vert = False)\n",
    "plt.show()"
   ]
  },
  {
   "cell_type": "code",
   "execution_count": 31,
   "id": "ac6047d0",
   "metadata": {},
   "outputs": [
    {
     "data": {
      "text/plain": [
       "128"
      ]
     },
     "execution_count": 31,
     "metadata": {},
     "output_type": "execute_result"
    }
   ],
   "source": [
    "len(rs)"
   ]
  },
  {
   "cell_type": "code",
   "execution_count": 50,
   "id": "a8d60546",
   "metadata": {},
   "outputs": [
    {
     "name": "stdout",
     "output_type": "stream",
     "text": [
      "(1009,)\n"
     ]
    },
    {
     "data": {
      "image/png": "[encoded data removed]",
      "text/plain": [
       "<Figure size 640x480 with 1 Axes>"
      ]
     },
     "metadata": {},
     "output_type": "display_data"
    },
    {
     "data": {
      "text/plain": [
       "(1009,)"
      ]
     },
     "execution_count": 50,
     "metadata": {},
     "output_type": "execute_result"
    }
   ],
   "source": [
    "data = facial_vectors['-0.508257']\n",
    "\n",
    "mu, std = norm.fit(data)\n",
    "\n",
    "plt.hist(data, bins=25, density=True, alpha=0.6, color='g')\n",
    "\n",
    "xmin, xmax = plt.xlim()\n",
    "x = np.linspace(xmin, xmax, 1009)\n",
    "p = norm.pdf(x, mu, std)\n",
    "corr_matrix = np.corrcoef(data,p)\n",
    "corr = corr_matrix[0,1]\n",
    "R_sq = 1-corr**2\n",
    "rs.append(R_sq)\n",
    "print(p.shape)\n",
    "plt.plot(x, p, 'k', linewidth=2)\n",
    "title = \"Fit results: mu = %.2f,  std = %.2f\" % (mu, std)\n",
    "plt.title(title)\n",
    "plt.show()\n",
    "data.shape"
   ]
  },
  {
   "cell_type": "code",
   "execution_count": null,
   "id": "daf790d4",
   "metadata": {},
   "outputs": [],
   "source": []
  }
 ],
 "metadata": {
  "kernelspec": {
   "display_name": "Python 3 (ipykernel)",
   "language": "python",
   "name": "python3"
  },
  "language_info": {
   "codemirror_mode": {
    "name": "ipython",
    "version": 3
   },
   "file_extension": ".py",
   "mimetype": "text/x-python",
   "name": "python",
   "nbconvert_exporter": "python",
   "pygments_lexer": "ipython3",
   "version": "3.11.1"
  }
 },
 "nbformat": 4,
 "nbformat_minor": 5
}
